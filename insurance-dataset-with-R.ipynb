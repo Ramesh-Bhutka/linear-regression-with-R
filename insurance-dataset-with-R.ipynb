{
 "cells": [
  {
   "cell_type": "code",
   "execution_count": 30,
   "metadata": {},
   "outputs": [
    {
     "data": {
      "text/plain": [
       "[1] \"2021-01-09 19:40:01 IST\""
      ]
     },
     "metadata": {},
     "output_type": "display_data"
    }
   ],
   "source": [
    "Sys.time()"
   ]
  },
  {
   "cell_type": "code",
   "execution_count": 1,
   "metadata": {},
   "outputs": [
    {
     "data": {
      "text/html": [
       "'Name : Ramesh Bhutka'"
      ],
      "text/latex": [
       "'Name : Ramesh Bhutka'"
      ],
      "text/markdown": [
       "'Name : Ramesh Bhutka'"
      ],
      "text/plain": [
       "[1] \"Name : Ramesh Bhutka\""
      ]
     },
     "metadata": {},
     "output_type": "display_data"
    },
    {
     "data": {
      "text/html": [
       "'Sap ID:- 53004190003'"
      ],
      "text/latex": [
       "'Sap ID:- 53004190003'"
      ],
      "text/markdown": [
       "'Sap ID:- 53004190003'"
      ],
      "text/plain": [
       "[1] \"Sap ID:- 53004190003\""
      ]
     },
     "metadata": {},
     "output_type": "display_data"
    }
   ],
   "source": [
    "Name <- \"Name : Ramesh Bhutka\"\n",
    "sapID <-\"Sap ID:- 53004190003\"\n",
    "Name; sapID"
   ]
  },
  {
   "cell_type": "markdown",
   "metadata": {},
   "source": [
    "### Columns\n",
    "\n",
    "    age: age of primary beneficiary\n",
    "\n",
    "    sex: insurance contractor gender, female, male\n",
    "\n",
    "    bmi: Body mass index, providing an understanding of body, weights that are relatively high or low relative to height,\n",
    "    objective index of body weight (kg / m ^ 2) using the ratio of height to weight, ideally 18.5 to 24.9\n",
    "\n",
    "    children: Number of children covered by health insurance / Number of dependents\n",
    "\n",
    "    smoker: Smoking, yes, no\n",
    "\n",
    "    region: the beneficiary's residential area in the US, northeast, southeast, southwest, northwest.\n",
    "\n",
    "    charges: Individual medical costs billed by health insurance\n"
   ]
  },
  {
   "cell_type": "code",
   "execution_count": 2,
   "metadata": {},
   "outputs": [
    {
     "name": "stderr",
     "output_type": "stream",
     "text": [
      "\n",
      "Attaching package: 'dplyr'\n",
      "\n",
      "\n",
      "The following objects are masked from 'package:stats':\n",
      "\n",
      "    filter, lag\n",
      "\n",
      "\n",
      "The following objects are masked from 'package:base':\n",
      "\n",
      "    intersect, setdiff, setequal, union\n",
      "\n",
      "\n",
      "Loading required package: lattice\n",
      "\n",
      "\n",
      "Attaching package: 'lattice'\n",
      "\n",
      "\n",
      "The following object is masked from 'package:corrgram':\n",
      "\n",
      "    panel.fill\n",
      "\n",
      "\n"
     ]
    }
   ],
   "source": [
    "# dplyr is used for data manipulation \n",
    "library(dplyr)\n",
    "# ggplot2 for visualization \n",
    "library(ggplot2)\n",
    "#caTools for train/test split\n",
    "library(caTools)\n",
    "# corrgram for making neat correlation matrix plots\n",
    "library(corrgram)\n",
    "# mainly for One-Hot Encoding\n",
    "library(caret)"
   ]
  },
  {
   "cell_type": "code",
   "execution_count": 3,
   "metadata": {},
   "outputs": [],
   "source": [
    "df <- read.csv(\"https://raw.githubusercontent.com/Ramesh-Bhutka/linear-regression-with-R/main/insurance.csv\")"
   ]
  },
  {
   "cell_type": "code",
   "execution_count": 4,
   "metadata": {},
   "outputs": [
    {
     "data": {
      "text/html": [
       "<table>\n",
       "<caption>A data.frame: 6 × 7</caption>\n",
       "<thead>\n",
       "\t<tr><th></th><th scope=col>age</th><th scope=col>sex</th><th scope=col>bmi</th><th scope=col>children</th><th scope=col>smoker</th><th scope=col>region</th><th scope=col>charges</th></tr>\n",
       "\t<tr><th></th><th scope=col>&lt;int&gt;</th><th scope=col>&lt;chr&gt;</th><th scope=col>&lt;dbl&gt;</th><th scope=col>&lt;int&gt;</th><th scope=col>&lt;chr&gt;</th><th scope=col>&lt;chr&gt;</th><th scope=col>&lt;dbl&gt;</th></tr>\n",
       "</thead>\n",
       "<tbody>\n",
       "\t<tr><th scope=row>1</th><td>19</td><td>female</td><td>27.900</td><td>0</td><td>yes</td><td>southwest</td><td>16884.924</td></tr>\n",
       "\t<tr><th scope=row>2</th><td>18</td><td>male  </td><td>33.770</td><td>1</td><td>no </td><td>southeast</td><td> 1725.552</td></tr>\n",
       "\t<tr><th scope=row>3</th><td>28</td><td>male  </td><td>33.000</td><td>3</td><td>no </td><td>southeast</td><td> 4449.462</td></tr>\n",
       "\t<tr><th scope=row>4</th><td>33</td><td>male  </td><td>22.705</td><td>0</td><td>no </td><td>northwest</td><td>21984.471</td></tr>\n",
       "\t<tr><th scope=row>5</th><td>32</td><td>male  </td><td>28.880</td><td>0</td><td>no </td><td>northwest</td><td> 3866.855</td></tr>\n",
       "\t<tr><th scope=row>6</th><td>31</td><td>female</td><td>25.740</td><td>0</td><td>no </td><td>southeast</td><td> 3756.622</td></tr>\n",
       "</tbody>\n",
       "</table>\n"
      ],
      "text/latex": [
       "A data.frame: 6 × 7\n",
       "\\begin{tabular}{r|lllllll}\n",
       "  & age & sex & bmi & children & smoker & region & charges\\\\\n",
       "  & <int> & <chr> & <dbl> & <int> & <chr> & <chr> & <dbl>\\\\\n",
       "\\hline\n",
       "\t1 & 19 & female & 27.900 & 0 & yes & southwest & 16884.924\\\\\n",
       "\t2 & 18 & male   & 33.770 & 1 & no  & southeast &  1725.552\\\\\n",
       "\t3 & 28 & male   & 33.000 & 3 & no  & southeast &  4449.462\\\\\n",
       "\t4 & 33 & male   & 22.705 & 0 & no  & northwest & 21984.471\\\\\n",
       "\t5 & 32 & male   & 28.880 & 0 & no  & northwest &  3866.855\\\\\n",
       "\t6 & 31 & female & 25.740 & 0 & no  & southeast &  3756.622\\\\\n",
       "\\end{tabular}\n"
      ],
      "text/markdown": [
       "\n",
       "A data.frame: 6 × 7\n",
       "\n",
       "| <!--/--> | age &lt;int&gt; | sex &lt;chr&gt; | bmi &lt;dbl&gt; | children &lt;int&gt; | smoker &lt;chr&gt; | region &lt;chr&gt; | charges &lt;dbl&gt; |\n",
       "|---|---|---|---|---|---|---|---|\n",
       "| 1 | 19 | female | 27.900 | 0 | yes | southwest | 16884.924 |\n",
       "| 2 | 18 | male   | 33.770 | 1 | no  | southeast |  1725.552 |\n",
       "| 3 | 28 | male   | 33.000 | 3 | no  | southeast |  4449.462 |\n",
       "| 4 | 33 | male   | 22.705 | 0 | no  | northwest | 21984.471 |\n",
       "| 5 | 32 | male   | 28.880 | 0 | no  | northwest |  3866.855 |\n",
       "| 6 | 31 | female | 25.740 | 0 | no  | southeast |  3756.622 |\n",
       "\n"
      ],
      "text/plain": [
       "  age sex    bmi    children smoker region    charges  \n",
       "1 19  female 27.900 0        yes    southwest 16884.924\n",
       "2 18  male   33.770 1        no     southeast  1725.552\n",
       "3 28  male   33.000 3        no     southeast  4449.462\n",
       "4 33  male   22.705 0        no     northwest 21984.471\n",
       "5 32  male   28.880 0        no     northwest  3866.855\n",
       "6 31  female 25.740 0        no     southeast  3756.622"
      ]
     },
     "metadata": {},
     "output_type": "display_data"
    }
   ],
   "source": [
    "head(df)"
   ]
  },
  {
   "cell_type": "code",
   "execution_count": 5,
   "metadata": {},
   "outputs": [
    {
     "data": {
      "text/html": [
       "0"
      ],
      "text/latex": [
       "0"
      ],
      "text/markdown": [
       "0"
      ],
      "text/plain": [
       "[1] 0"
      ]
     },
     "metadata": {},
     "output_type": "display_data"
    }
   ],
   "source": [
    "# number of rows with missing values\n",
    "nrow(df) - sum(complete.cases(df))"
   ]
  },
  {
   "cell_type": "code",
   "execution_count": 6,
   "metadata": {},
   "outputs": [
    {
     "name": "stdout",
     "output_type": "stream",
     "text": [
      "'data.frame':\t1338 obs. of  7 variables:\n",
      " $ age     : int  19 18 28 33 32 31 46 37 37 60 ...\n",
      " $ sex     : chr  \"female\" \"male\" \"male\" \"male\" ...\n",
      " $ bmi     : num  27.9 33.8 33 22.7 28.9 ...\n",
      " $ children: int  0 1 3 0 0 0 1 3 2 0 ...\n",
      " $ smoker  : chr  \"yes\" \"no\" \"no\" \"no\" ...\n",
      " $ region  : chr  \"southwest\" \"southeast\" \"southeast\" \"northwest\" ...\n",
      " $ charges : num  16885 1726 4449 21984 3867 ...\n"
     ]
    }
   ],
   "source": [
    "str(df)"
   ]
  },
  {
   "cell_type": "code",
   "execution_count": 7,
   "metadata": {},
   "outputs": [
    {
     "data": {
      "image/png": "[encoded data removed]",
      "text/plain": [
       "plot without title"
      ]
     },
     "metadata": {
      "image/png": {
       "height": 420,
       "width": 420
      }
     },
     "output_type": "display_data"
    }
   ],
   "source": [
    "corrgram(df, lower.panel=panel.shade, upper.panel=panel.cor)"
   ]
  },
  {
   "cell_type": "code",
   "execution_count": 8,
   "metadata": {},
   "outputs": [],
   "source": [
    "# By looking at columns — ‘sex’, ‘smoker’ and ‘region’ are in string format, \n",
    "# so we can work on converting them to numerical values using Label Encoding and one hot encoding "
   ]
  },
  {
   "cell_type": "code",
   "execution_count": 9,
   "metadata": {},
   "outputs": [
    {
     "data": {
      "text/plain": [
       "\n",
       "  0   1 \n",
       "662 676 "
      ]
     },
     "metadata": {},
     "output_type": "display_data"
    }
   ],
   "source": [
    "# we will perform Label Encoding on sex and smoker column\n",
    "df$sex <- ifelse(df$sex == \"male\",1,0)\n",
    "\n",
    "table(df$sex)"
   ]
  },
  {
   "cell_type": "code",
   "execution_count": 10,
   "metadata": {},
   "outputs": [
    {
     "data": {
      "text/plain": [
       "\n",
       "   0    1 \n",
       "1064  274 "
      ]
     },
     "metadata": {},
     "output_type": "display_data"
    }
   ],
   "source": [
    "df$smoker <- ifelse(df$smoker == \"yes\",1,0)\n",
    "\n",
    "table(df$smoker)"
   ]
  },
  {
   "cell_type": "code",
   "execution_count": 11,
   "metadata": {},
   "outputs": [
    {
     "name": "stdout",
     "output_type": "stream",
     "text": [
      "Rows: 1,338\n",
      "Columns: 9\n",
      "$ age             \u001b[3m\u001b[90m<dbl>\u001b[39m\u001b[23m 19, 18, 28, 33, 32, 31, 46, 37, 37, 60, 25, 62, 23,...\n",
      "$ sex             \u001b[3m\u001b[90m<dbl>\u001b[39m\u001b[23m 0, 1, 1, 1, 1, 0, 0, 0, 1, 0, 1, 0, 1, 0, 1, 1, 0, ...\n",
      "$ bmi             \u001b[3m\u001b[90m<dbl>\u001b[39m\u001b[23m 27.900, 33.770, 33.000, 22.705, 28.880, 25.740, 33....\n",
      "$ children        \u001b[3m\u001b[90m<dbl>\u001b[39m\u001b[23m 0, 1, 3, 0, 0, 0, 1, 3, 2, 0, 0, 0, 0, 0, 0, 1, 1, ...\n",
      "$ smoker          \u001b[3m\u001b[90m<dbl>\u001b[39m\u001b[23m 1, 0, 0, 0, 0, 0, 0, 0, 0, 0, 0, 1, 0, 0, 1, 0, 0, ...\n",
      "$ regionnorthwest \u001b[3m\u001b[90m<dbl>\u001b[39m\u001b[23m 0, 0, 0, 1, 1, 0, 0, 1, 0, 1, 0, 0, 0, 0, 0, 0, 0, ...\n",
      "$ regionsoutheast \u001b[3m\u001b[90m<dbl>\u001b[39m\u001b[23m 0, 1, 1, 0, 0, 1, 1, 0, 0, 0, 0, 1, 0, 1, 1, 0, 0, ...\n",
      "$ regionsouthwest \u001b[3m\u001b[90m<dbl>\u001b[39m\u001b[23m 1, 0, 0, 0, 0, 0, 0, 0, 0, 0, 0, 0, 1, 0, 0, 1, 0, ...\n",
      "$ charges         \u001b[3m\u001b[90m<dbl>\u001b[39m\u001b[23m 16884.924, 1725.552, 4449.462, 21984.471, 3866.855,...\n"
     ]
    }
   ],
   "source": [
    "# we will perform One-Hot Encoding on region column\n",
    "\n",
    "dmy <- dummyVars(\" ~ .\", data = df, fullRank = T)\n",
    "df1 <- data.frame(predict(dmy, newdata = df))\n",
    "\n",
    "glimpse(df1)"
   ]
  },
  {
   "cell_type": "code",
   "execution_count": 12,
   "metadata": {},
   "outputs": [
    {
     "name": "stdout",
     "output_type": "stream",
     "text": [
      "'data.frame':\t1338 obs. of  9 variables:\n",
      " $ age            : num  19 18 28 33 32 31 46 37 37 60 ...\n",
      " $ sex            : num  0 1 1 1 1 0 0 0 1 0 ...\n",
      " $ bmi            : num  27.9 33.8 33 22.7 28.9 ...\n",
      " $ children       : num  0 1 3 0 0 0 1 3 2 0 ...\n",
      " $ smoker         : num  1 0 0 0 0 0 0 0 0 0 ...\n",
      " $ regionnorthwest: num  0 0 0 1 1 0 0 1 0 1 ...\n",
      " $ regionsoutheast: num  0 1 1 0 0 1 1 0 0 0 ...\n",
      " $ regionsouthwest: num  1 0 0 0 0 0 0 0 0 0 ...\n",
      " $ charges        : num  16885 1726 4449 21984 3867 ...\n"
     ]
    }
   ],
   "source": [
    "str(df1)"
   ]
  },
  {
   "cell_type": "code",
   "execution_count": 13,
   "metadata": {},
   "outputs": [
    {
     "data": {
      "text/plain": [
       "   Min. 1st Qu.  Median    Mean 3rd Qu.    Max. \n",
       "   1122    4740    9382   13270   16640   63770 "
      ]
     },
     "metadata": {},
     "output_type": "display_data"
    }
   ],
   "source": [
    "summary(df1$charges)"
   ]
  },
  {
   "cell_type": "code",
   "execution_count": 14,
   "metadata": {},
   "outputs": [
    {
     "data": {
      "text/plain": [
       "      age             sex              bmi           children    \n",
       " Min.   :18.00   Min.   :0.0000   Min.   :15.96   Min.   :0.000  \n",
       " 1st Qu.:27.00   1st Qu.:0.0000   1st Qu.:26.30   1st Qu.:0.000  \n",
       " Median :39.00   Median :1.0000   Median :30.40   Median :1.000  \n",
       " Mean   :39.21   Mean   :0.5052   Mean   :30.66   Mean   :1.095  \n",
       " 3rd Qu.:51.00   3rd Qu.:1.0000   3rd Qu.:34.69   3rd Qu.:2.000  \n",
       " Max.   :64.00   Max.   :1.0000   Max.   :53.13   Max.   :5.000  \n",
       "     smoker       regionnorthwest  regionsoutheast regionsouthwest \n",
       " Min.   :0.0000   Min.   :0.0000   Min.   :0.000   Min.   :0.0000  \n",
       " 1st Qu.:0.0000   1st Qu.:0.0000   1st Qu.:0.000   1st Qu.:0.0000  \n",
       " Median :0.0000   Median :0.0000   Median :0.000   Median :0.0000  \n",
       " Mean   :0.2048   Mean   :0.2429   Mean   :0.272   Mean   :0.2429  \n",
       " 3rd Qu.:0.0000   3rd Qu.:0.0000   3rd Qu.:1.000   3rd Qu.:0.0000  \n",
       " Max.   :1.0000   Max.   :1.0000   Max.   :1.000   Max.   :1.0000  \n",
       "    charges     \n",
       " Min.   : 1122  \n",
       " 1st Qu.: 4740  \n",
       " Median : 9382  \n",
       " Mean   :13270  \n",
       " 3rd Qu.:16640  \n",
       " Max.   :63770  "
      ]
     },
     "metadata": {},
     "output_type": "display_data"
    }
   ],
   "source": [
    "summary(df1)"
   ]
  },
  {
   "cell_type": "code",
   "execution_count": 15,
   "metadata": {},
   "outputs": [
    {
     "data": {
      "text/html": [
       "<table>\n",
       "<caption>A data.frame: 6 × 9</caption>\n",
       "<thead>\n",
       "\t<tr><th></th><th scope=col>age</th><th scope=col>sex</th><th scope=col>bmi</th><th scope=col>children</th><th scope=col>smoker</th><th scope=col>regionnorthwest</th><th scope=col>regionsoutheast</th><th scope=col>regionsouthwest</th><th scope=col>charges</th></tr>\n",
       "\t<tr><th></th><th scope=col>&lt;dbl&gt;</th><th scope=col>&lt;dbl&gt;</th><th scope=col>&lt;dbl&gt;</th><th scope=col>&lt;dbl&gt;</th><th scope=col>&lt;dbl&gt;</th><th scope=col>&lt;dbl&gt;</th><th scope=col>&lt;dbl&gt;</th><th scope=col>&lt;dbl&gt;</th><th scope=col>&lt;dbl&gt;</th></tr>\n",
       "</thead>\n",
       "<tbody>\n",
       "\t<tr><th scope=row>1</th><td>19</td><td>0</td><td>27.900</td><td>0</td><td>1</td><td>0</td><td>0</td><td>1</td><td>16884.924</td></tr>\n",
       "\t<tr><th scope=row>2</th><td>18</td><td>1</td><td>33.770</td><td>1</td><td>0</td><td>0</td><td>1</td><td>0</td><td> 1725.552</td></tr>\n",
       "\t<tr><th scope=row>3</th><td>28</td><td>1</td><td>33.000</td><td>3</td><td>0</td><td>0</td><td>1</td><td>0</td><td> 4449.462</td></tr>\n",
       "\t<tr><th scope=row>4</th><td>33</td><td>1</td><td>22.705</td><td>0</td><td>0</td><td>1</td><td>0</td><td>0</td><td>21984.471</td></tr>\n",
       "\t<tr><th scope=row>5</th><td>32</td><td>1</td><td>28.880</td><td>0</td><td>0</td><td>1</td><td>0</td><td>0</td><td> 3866.855</td></tr>\n",
       "\t<tr><th scope=row>6</th><td>31</td><td>0</td><td>25.740</td><td>0</td><td>0</td><td>0</td><td>1</td><td>0</td><td> 3756.622</td></tr>\n",
       "</tbody>\n",
       "</table>\n"
      ],
      "text/latex": [
       "A data.frame: 6 × 9\n",
       "\\begin{tabular}{r|lllllllll}\n",
       "  & age & sex & bmi & children & smoker & regionnorthwest & regionsoutheast & regionsouthwest & charges\\\\\n",
       "  & <dbl> & <dbl> & <dbl> & <dbl> & <dbl> & <dbl> & <dbl> & <dbl> & <dbl>\\\\\n",
       "\\hline\n",
       "\t1 & 19 & 0 & 27.900 & 0 & 1 & 0 & 0 & 1 & 16884.924\\\\\n",
       "\t2 & 18 & 1 & 33.770 & 1 & 0 & 0 & 1 & 0 &  1725.552\\\\\n",
       "\t3 & 28 & 1 & 33.000 & 3 & 0 & 0 & 1 & 0 &  4449.462\\\\\n",
       "\t4 & 33 & 1 & 22.705 & 0 & 0 & 1 & 0 & 0 & 21984.471\\\\\n",
       "\t5 & 32 & 1 & 28.880 & 0 & 0 & 1 & 0 & 0 &  3866.855\\\\\n",
       "\t6 & 31 & 0 & 25.740 & 0 & 0 & 0 & 1 & 0 &  3756.622\\\\\n",
       "\\end{tabular}\n"
      ],
      "text/markdown": [
       "\n",
       "A data.frame: 6 × 9\n",
       "\n",
       "| <!--/--> | age &lt;dbl&gt; | sex &lt;dbl&gt; | bmi &lt;dbl&gt; | children &lt;dbl&gt; | smoker &lt;dbl&gt; | regionnorthwest &lt;dbl&gt; | regionsoutheast &lt;dbl&gt; | regionsouthwest &lt;dbl&gt; | charges &lt;dbl&gt; |\n",
       "|---|---|---|---|---|---|---|---|---|---|\n",
       "| 1 | 19 | 0 | 27.900 | 0 | 1 | 0 | 0 | 1 | 16884.924 |\n",
       "| 2 | 18 | 1 | 33.770 | 1 | 0 | 0 | 1 | 0 |  1725.552 |\n",
       "| 3 | 28 | 1 | 33.000 | 3 | 0 | 0 | 1 | 0 |  4449.462 |\n",
       "| 4 | 33 | 1 | 22.705 | 0 | 0 | 1 | 0 | 0 | 21984.471 |\n",
       "| 5 | 32 | 1 | 28.880 | 0 | 0 | 1 | 0 | 0 |  3866.855 |\n",
       "| 6 | 31 | 0 | 25.740 | 0 | 0 | 0 | 1 | 0 |  3756.622 |\n",
       "\n"
      ],
      "text/plain": [
       "  age sex bmi    children smoker regionnorthwest regionsoutheast\n",
       "1 19  0   27.900 0        1      0               0              \n",
       "2 18  1   33.770 1        0      0               1              \n",
       "3 28  1   33.000 3        0      0               1              \n",
       "4 33  1   22.705 0        0      1               0              \n",
       "5 32  1   28.880 0        0      1               0              \n",
       "6 31  0   25.740 0        0      0               1              \n",
       "  regionsouthwest charges  \n",
       "1 1               16884.924\n",
       "2 0                1725.552\n",
       "3 0                4449.462\n",
       "4 0               21984.471\n",
       "5 0                3866.855\n",
       "6 0                3756.622"
      ]
     },
     "metadata": {},
     "output_type": "display_data"
    }
   ],
   "source": [
    "head(df1)"
   ]
  },
  {
   "cell_type": "code",
   "execution_count": 16,
   "metadata": {},
   "outputs": [
    {
     "data": {
      "text/html": [
       "<table>\n",
       "<caption>A data.frame: 6 × 9</caption>\n",
       "<thead>\n",
       "\t<tr><th></th><th scope=col>age</th><th scope=col>sex</th><th scope=col>bmi</th><th scope=col>children</th><th scope=col>smoker</th><th scope=col>regionnorthwest</th><th scope=col>regionsoutheast</th><th scope=col>regionsouthwest</th><th scope=col>charges</th></tr>\n",
       "\t<tr><th></th><th scope=col>&lt;dbl&gt;</th><th scope=col>&lt;dbl&gt;</th><th scope=col>&lt;dbl&gt;</th><th scope=col>&lt;dbl&gt;</th><th scope=col>&lt;dbl&gt;</th><th scope=col>&lt;dbl&gt;</th><th scope=col>&lt;dbl&gt;</th><th scope=col>&lt;dbl&gt;</th><th scope=col>&lt;dbl&gt;</th></tr>\n",
       "</thead>\n",
       "<tbody>\n",
       "\t<tr><th scope=row>1333</th><td>52</td><td>0</td><td>44.70</td><td>3</td><td>0</td><td>0</td><td>0</td><td>1</td><td>11411.685</td></tr>\n",
       "\t<tr><th scope=row>1334</th><td>50</td><td>1</td><td>30.97</td><td>3</td><td>0</td><td>1</td><td>0</td><td>0</td><td>10600.548</td></tr>\n",
       "\t<tr><th scope=row>1335</th><td>18</td><td>0</td><td>31.92</td><td>0</td><td>0</td><td>0</td><td>0</td><td>0</td><td> 2205.981</td></tr>\n",
       "\t<tr><th scope=row>1336</th><td>18</td><td>0</td><td>36.85</td><td>0</td><td>0</td><td>0</td><td>1</td><td>0</td><td> 1629.833</td></tr>\n",
       "\t<tr><th scope=row>1337</th><td>21</td><td>0</td><td>25.80</td><td>0</td><td>0</td><td>0</td><td>0</td><td>1</td><td> 2007.945</td></tr>\n",
       "\t<tr><th scope=row>1338</th><td>61</td><td>0</td><td>29.07</td><td>0</td><td>1</td><td>1</td><td>0</td><td>0</td><td>29141.360</td></tr>\n",
       "</tbody>\n",
       "</table>\n"
      ],
      "text/latex": [
       "A data.frame: 6 × 9\n",
       "\\begin{tabular}{r|lllllllll}\n",
       "  & age & sex & bmi & children & smoker & regionnorthwest & regionsoutheast & regionsouthwest & charges\\\\\n",
       "  & <dbl> & <dbl> & <dbl> & <dbl> & <dbl> & <dbl> & <dbl> & <dbl> & <dbl>\\\\\n",
       "\\hline\n",
       "\t1333 & 52 & 0 & 44.70 & 3 & 0 & 0 & 0 & 1 & 11411.685\\\\\n",
       "\t1334 & 50 & 1 & 30.97 & 3 & 0 & 1 & 0 & 0 & 10600.548\\\\\n",
       "\t1335 & 18 & 0 & 31.92 & 0 & 0 & 0 & 0 & 0 &  2205.981\\\\\n",
       "\t1336 & 18 & 0 & 36.85 & 0 & 0 & 0 & 1 & 0 &  1629.833\\\\\n",
       "\t1337 & 21 & 0 & 25.80 & 0 & 0 & 0 & 0 & 1 &  2007.945\\\\\n",
       "\t1338 & 61 & 0 & 29.07 & 0 & 1 & 1 & 0 & 0 & 29141.360\\\\\n",
       "\\end{tabular}\n"
      ],
      "text/markdown": [
       "\n",
       "A data.frame: 6 × 9\n",
       "\n",
       "| <!--/--> | age &lt;dbl&gt; | sex &lt;dbl&gt; | bmi &lt;dbl&gt; | children &lt;dbl&gt; | smoker &lt;dbl&gt; | regionnorthwest &lt;dbl&gt; | regionsoutheast &lt;dbl&gt; | regionsouthwest &lt;dbl&gt; | charges &lt;dbl&gt; |\n",
       "|---|---|---|---|---|---|---|---|---|---|\n",
       "| 1333 | 52 | 0 | 44.70 | 3 | 0 | 0 | 0 | 1 | 11411.685 |\n",
       "| 1334 | 50 | 1 | 30.97 | 3 | 0 | 1 | 0 | 0 | 10600.548 |\n",
       "| 1335 | 18 | 0 | 31.92 | 0 | 0 | 0 | 0 | 0 |  2205.981 |\n",
       "| 1336 | 18 | 0 | 36.85 | 0 | 0 | 0 | 1 | 0 |  1629.833 |\n",
       "| 1337 | 21 | 0 | 25.80 | 0 | 0 | 0 | 0 | 1 |  2007.945 |\n",
       "| 1338 | 61 | 0 | 29.07 | 0 | 1 | 1 | 0 | 0 | 29141.360 |\n",
       "\n"
      ],
      "text/plain": [
       "     age sex bmi   children smoker regionnorthwest regionsoutheast\n",
       "1333 52  0   44.70 3        0      0               0              \n",
       "1334 50  1   30.97 3        0      1               0              \n",
       "1335 18  0   31.92 0        0      0               0              \n",
       "1336 18  0   36.85 0        0      0               1              \n",
       "1337 21  0   25.80 0        0      0               0              \n",
       "1338 61  0   29.07 0        1      1               0              \n",
       "     regionsouthwest charges  \n",
       "1333 1               11411.685\n",
       "1334 0               10600.548\n",
       "1335 0                2205.981\n",
       "1336 0                1629.833\n",
       "1337 1                2007.945\n",
       "1338 0               29141.360"
      ]
     },
     "metadata": {},
     "output_type": "display_data"
    }
   ],
   "source": [
    "tail(df1)"
   ]
  },
  {
   "cell_type": "code",
   "execution_count": 17,
   "metadata": {},
   "outputs": [
    {
     "data": {
      "image/png": "[encoded data removed]",
      "text/plain": [
       "plot without title"
      ]
     },
     "metadata": {
      "image/png": {
       "height": 420,
       "width": 420
      }
     },
     "output_type": "display_data"
    }
   ],
   "source": [
    "plot(df1)"
   ]
  },
  {
   "cell_type": "code",
   "execution_count": 18,
   "metadata": {},
   "outputs": [
    {
     "data": {
      "image/png": "[encoded data removed]",
      "text/plain": [
       "plot without title"
      ]
     },
     "metadata": {
      "image/png": {
       "height": 420,
       "width": 420
      }
     },
     "output_type": "display_data"
    }
   ],
   "source": [
    "corrgram(df1, lower.panel=panel.shade, upper.panel=panel.cor)"
   ]
  },
  {
   "cell_type": "code",
   "execution_count": 19,
   "metadata": {},
   "outputs": [],
   "source": [
    "# spliting the data into training and testing\n",
    "set.seed(1080)\n",
    "n = nrow(df1)\n",
    "trainIndex = sample(1:n, size = round(0.7*n), replace=FALSE)\n",
    "train = df1[trainIndex ,]\n",
    "test = df1[-trainIndex ,]"
   ]
  },
  {
   "cell_type": "code",
   "execution_count": 20,
   "metadata": {},
   "outputs": [
    {
     "data": {
      "text/html": [
       "937"
      ],
      "text/latex": [
       "937"
      ],
      "text/markdown": [
       "937"
      ],
      "text/plain": [
       "[1] 937"
      ]
     },
     "metadata": {},
     "output_type": "display_data"
    }
   ],
   "source": [
    "nrow(train)"
   ]
  },
  {
   "cell_type": "code",
   "execution_count": 21,
   "metadata": {},
   "outputs": [
    {
     "data": {
      "text/html": [
       "401"
      ],
      "text/latex": [
       "401"
      ],
      "text/markdown": [
       "401"
      ],
      "text/plain": [
       "[1] 401"
      ]
     },
     "metadata": {},
     "output_type": "display_data"
    }
   ],
   "source": [
    "nrow(test)"
   ]
  },
  {
   "cell_type": "code",
   "execution_count": 22,
   "metadata": {},
   "outputs": [
    {
     "data": {
      "text/plain": [
       "\n",
       "Call:\n",
       "lm(formula = charges ~ ., data = train)\n",
       "\n",
       "Residuals:\n",
       "     Min       1Q   Median       3Q      Max \n",
       "-11599.5  -2637.2   -869.4   1389.9  25199.1 \n",
       "\n",
       "Coefficients:\n",
       "                 Estimate Std. Error t value Pr(>|t|)    \n",
       "(Intercept)     -11427.43    1150.09  -9.936   <2e-16 ***\n",
       "age                249.52      13.86  18.005   <2e-16 ***\n",
       "sex                133.07     390.79   0.341   0.7335    \n",
       "bmi                323.29      33.00   9.796   <2e-16 ***\n",
       "children           403.29     159.52   2.528   0.0116 *  \n",
       "smoker           24345.19     485.38  50.157   <2e-16 ***\n",
       "regionnorthwest   -242.36     560.08  -0.433   0.6653    \n",
       "regionsoutheast  -1057.06     561.84  -1.881   0.0602 .  \n",
       "regionsouthwest   -990.65     561.99  -1.763   0.0783 .  \n",
       "---\n",
       "Signif. codes:  0 '***' 0.001 '**' 0.01 '*' 0.05 '.' 0.1 ' ' 1\n",
       "\n",
       "Residual standard error: 5957 on 928 degrees of freedom\n",
       "Multiple R-squared:  0.7626,\tAdjusted R-squared:  0.7605 \n",
       "F-statistic: 372.5 on 8 and 928 DF,  p-value: < 2.2e-16\n"
      ]
     },
     "metadata": {},
     "output_type": "display_data"
    }
   ],
   "source": [
    "# creating model\n",
    "Model <- lm(charges ~., data=train)\n",
    "summary(Model)"
   ]
  },
  {
   "cell_type": "code",
   "execution_count": 23,
   "metadata": {},
   "outputs": [
    {
     "data": {
      "text/html": [
       "<style>\n",
       ".dl-inline {width: auto; margin:0; padding: 0}\n",
       ".dl-inline>dt, .dl-inline>dd {float: none; width: auto; display: inline-block}\n",
       ".dl-inline>dt::after {content: \":\\0020\"; padding-right: .5ex}\n",
       ".dl-inline>dt:not(:first-of-type) {padding-left: .5ex}\n",
       "</style><dl class=dl-inline><dt>1</dt><dd>25687.8488161385</dd><dt>6</dt><dd>3572.16542916489</dd><dt>8</dt><dd>7740.44263254735</dd><dt>14</dt><dd>14362.1071508593</dd><dt>17</dt><dd>11901.8150508147</dd><dt>25</dt><dd>7562.35994300933</dd><dt>27</dt><dd>11755.4941415828</dd><dt>28</dt><dd>13456.2740177845</dd><dt>32</dt><dd>1571.37012116237</dd><dt>33</dt><dd>3585.42237799867</dd></dl>\n"
      ],
      "text/latex": [
       "\\begin{description*}\n",
       "\\item[1] 25687.8488161385\n",
       "\\item[6] 3572.16542916489\n",
       "\\item[8] 7740.44263254735\n",
       "\\item[14] 14362.1071508593\n",
       "\\item[17] 11901.8150508147\n",
       "\\item[25] 7562.35994300933\n",
       "\\item[27] 11755.4941415828\n",
       "\\item[28] 13456.2740177845\n",
       "\\item[32] 1571.37012116237\n",
       "\\item[33] 3585.42237799867\n",
       "\\end{description*}\n"
      ],
      "text/markdown": [
       "1\n",
       ":   25687.84881613856\n",
       ":   3572.165429164898\n",
       ":   7740.4426325473514\n",
       ":   14362.107150859317\n",
       ":   11901.815050814725\n",
       ":   7562.3599430093327\n",
       ":   11755.494141582828\n",
       ":   13456.274017784532\n",
       ":   1571.3701211623733\n",
       ":   3585.42237799867\n",
       "\n"
      ],
      "text/plain": [
       "        1         6         8        14        17        25        27        28 \n",
       "25687.849  3572.165  7740.443 14362.107 11901.815  7562.360 11755.494 13456.274 \n",
       "       32        33 \n",
       " 1571.370  3585.422 "
      ]
     },
     "metadata": {},
     "output_type": "display_data"
    }
   ],
   "source": [
    "# Prediction\n",
    "pred <- predict(Model, test)\n",
    "head(pred, n=10)"
   ]
  },
  {
   "cell_type": "code",
   "execution_count": 24,
   "metadata": {},
   "outputs": [
    {
     "name": "stderr",
     "output_type": "stream",
     "text": [
      "Warning message in pred - df1$charges:\n",
      "\"longer object length is not a multiple of shorter object length\"\n"
     ]
    },
    {
     "data": {
      "text/html": [
       "254.34356545955"
      ],
      "text/latex": [
       "254.34356545955"
      ],
      "text/markdown": [
       "254.34356545955"
      ],
      "text/plain": [
       "[1] 254.3436"
      ]
     },
     "metadata": {},
     "output_type": "display_data"
    }
   ],
   "source": [
    "# finding accuracy\n",
    "rmse <- sqrt(mean(pred-df1$charges)^2)\n",
    "rmse"
   ]
  },
  {
   "cell_type": "code",
   "execution_count": 25,
   "metadata": {},
   "outputs": [
    {
     "name": "stderr",
     "output_type": "stream",
     "text": [
      "`stat_bin()` using `bins = 30`. Pick better value with `binwidth`.\n",
      "\n"
     ]
    },
    {
     "data": {
      "image/png": "[encoded data removed]",
      "text/plain": [
       "plot without title"
      ]
     },
     "metadata": {
      "image/png": {
       "height": 420,
       "width": 420
      }
     },
     "output_type": "display_data"
    }
   ],
   "source": [
    "modelResiduals <- as.data.frame(residuals(Model)) \n",
    "ggplot(modelResiduals, aes(residuals(Model))) +\n",
    "geom_histogram(fill='deepskyblue', color='black')"
   ]
  },
  {
   "cell_type": "code",
   "execution_count": 26,
   "metadata": {},
   "outputs": [],
   "source": [
    "modelEval <- cbind(test$charges, pred)\n",
    "colnames(modelEval) <- c('Actual', 'Predicted')\n",
    "modelEval <- as.data.frame(modelEval)"
   ]
  },
  {
   "cell_type": "code",
   "execution_count": 27,
   "metadata": {},
   "outputs": [
    {
     "data": {
      "text/html": [
       "<table>\n",
       "<caption>A data.frame: 10 × 2</caption>\n",
       "<thead>\n",
       "\t<tr><th></th><th scope=col>Actual</th><th scope=col>Predicted</th></tr>\n",
       "\t<tr><th></th><th scope=col>&lt;dbl&gt;</th><th scope=col>&lt;dbl&gt;</th></tr>\n",
       "</thead>\n",
       "<tbody>\n",
       "\t<tr><th scope=row>1</th><td>16884.924</td><td>25687.849</td></tr>\n",
       "\t<tr><th scope=row>6</th><td> 3756.622</td><td> 3572.165</td></tr>\n",
       "\t<tr><th scope=row>8</th><td> 7281.506</td><td> 7740.443</td></tr>\n",
       "\t<tr><th scope=row>14</th><td>11090.718</td><td>14362.107</td></tr>\n",
       "\t<tr><th scope=row>17</th><td>10797.336</td><td>11901.815</td></tr>\n",
       "\t<tr><th scope=row>25</th><td> 6203.902</td><td> 7562.360</td></tr>\n",
       "\t<tr><th scope=row>27</th><td>14451.835</td><td>11755.494</td></tr>\n",
       "\t<tr><th scope=row>28</th><td>12268.632</td><td>13456.274</td></tr>\n",
       "\t<tr><th scope=row>32</th><td> 2198.190</td><td> 1571.370</td></tr>\n",
       "\t<tr><th scope=row>33</th><td> 4687.797</td><td> 3585.422</td></tr>\n",
       "</tbody>\n",
       "</table>\n"
      ],
      "text/latex": [
       "A data.frame: 10 × 2\n",
       "\\begin{tabular}{r|ll}\n",
       "  & Actual & Predicted\\\\\n",
       "  & <dbl> & <dbl>\\\\\n",
       "\\hline\n",
       "\t1 & 16884.924 & 25687.849\\\\\n",
       "\t6 &  3756.622 &  3572.165\\\\\n",
       "\t8 &  7281.506 &  7740.443\\\\\n",
       "\t14 & 11090.718 & 14362.107\\\\\n",
       "\t17 & 10797.336 & 11901.815\\\\\n",
       "\t25 &  6203.902 &  7562.360\\\\\n",
       "\t27 & 14451.835 & 11755.494\\\\\n",
       "\t28 & 12268.632 & 13456.274\\\\\n",
       "\t32 &  2198.190 &  1571.370\\\\\n",
       "\t33 &  4687.797 &  3585.422\\\\\n",
       "\\end{tabular}\n"
      ],
      "text/markdown": [
       "\n",
       "A data.frame: 10 × 2\n",
       "\n",
       "| <!--/--> | Actual &lt;dbl&gt; | Predicted &lt;dbl&gt; |\n",
       "|---|---|---|\n",
       "| 1 | 16884.924 | 25687.849 |\n",
       "| 6 |  3756.622 |  3572.165 |\n",
       "| 8 |  7281.506 |  7740.443 |\n",
       "| 14 | 11090.718 | 14362.107 |\n",
       "| 17 | 10797.336 | 11901.815 |\n",
       "| 25 |  6203.902 |  7562.360 |\n",
       "| 27 | 14451.835 | 11755.494 |\n",
       "| 28 | 12268.632 | 13456.274 |\n",
       "| 32 |  2198.190 |  1571.370 |\n",
       "| 33 |  4687.797 |  3585.422 |\n",
       "\n"
      ],
      "text/plain": [
       "   Actual    Predicted\n",
       "1  16884.924 25687.849\n",
       "6   3756.622  3572.165\n",
       "8   7281.506  7740.443\n",
       "14 11090.718 14362.107\n",
       "17 10797.336 11901.815\n",
       "25  6203.902  7562.360\n",
       "27 14451.835 11755.494\n",
       "28 12268.632 13456.274\n",
       "32  2198.190  1571.370\n",
       "33  4687.797  3585.422"
      ]
     },
     "metadata": {},
     "output_type": "display_data"
    }
   ],
   "source": [
    "head(modelEval, n=10)"
   ]
  },
  {
   "cell_type": "code",
   "execution_count": 28,
   "metadata": {},
   "outputs": [],
   "source": [
    "mse <- mean((modelEval$Actual - modelEval$Predicted)^2)\n",
    "rmse <- sqrt(mse)"
   ]
  },
  {
   "cell_type": "code",
   "execution_count": 29,
   "metadata": {},
   "outputs": [
    {
     "data": {
      "text/html": [
       "40033245.4585992"
      ],
      "text/latex": [
       "40033245.4585992"
      ],
      "text/markdown": [
       "40033245.4585992"
      ],
      "text/plain": [
       "[1] 40033245"
      ]
     },
     "metadata": {},
     "output_type": "display_data"
    },
    {
     "data": {
      "text/html": [
       "6327.18305872362"
      ],
      "text/latex": [
       "6327.18305872362"
      ],
      "text/markdown": [
       "6327.18305872362"
      ],
      "text/plain": [
       "[1] 6327.183"
      ]
     },
     "metadata": {},
     "output_type": "display_data"
    }
   ],
   "source": [
    "mse; rmse"
   ]
  },
  {
   "cell_type": "code",
   "execution_count": null,
   "metadata": {},
   "outputs": [],
   "source": []
  }
 ],
 "metadata": {
  "kernelspec": {
   "display_name": "R",
   "language": "R",
   "name": "ir"
  },
  "language_info": {
   "codemirror_mode": "r",
   "file_extension": ".r",
   "mimetype": "text/x-r-source",
   "name": "R",
   "pygments_lexer": "r",
   "version": "4.0.3"
  }
 },
 "nbformat": 4,
 "nbformat_minor": 4
}
