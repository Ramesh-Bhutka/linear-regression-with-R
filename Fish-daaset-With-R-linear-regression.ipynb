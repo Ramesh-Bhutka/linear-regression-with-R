{
 "cells": [
  {
   "cell_type": "code",
   "execution_count": 16,
   "metadata": {},
   "outputs": [
    {
     "data": {
      "text/plain": [
       "[1] \"2021-01-09 19:40:16 IST\""
      ]
     },
     "metadata": {},
     "output_type": "display_data"
    }
   ],
   "source": [
    "Sys.time()"
   ]
  },
  {
   "cell_type": "code",
   "execution_count": 17,
   "metadata": {},
   "outputs": [
    {
     "data": {
      "text/html": [
       "'Name : Ramesh Bhutka'"
      ],
      "text/latex": [
       "'Name : Ramesh Bhutka'"
      ],
      "text/markdown": [
       "'Name : Ramesh Bhutka'"
      ],
      "text/plain": [
       "[1] \"Name : Ramesh Bhutka\""
      ]
     },
     "metadata": {},
     "output_type": "display_data"
    },
    {
     "data": {
      "text/html": [
       "'Sap ID:- 53004190003'"
      ],
      "text/latex": [
       "'Sap ID:- 53004190003'"
      ],
      "text/markdown": [
       "'Sap ID:- 53004190003'"
      ],
      "text/plain": [
       "[1] \"Sap ID:- 53004190003\""
      ]
     },
     "metadata": {},
     "output_type": "display_data"
    }
   ],
   "source": [
    "Name <- \"Name : Ramesh Bhutka\"\n",
    "sapID <-\"Sap ID:- 53004190003\"\n",
    "Name; sapID"
   ]
  },
  {
   "cell_type": "code",
   "execution_count": 1,
   "metadata": {},
   "outputs": [
    {
     "name": "stderr",
     "output_type": "stream",
     "text": [
      "\n",
      "Attaching package: 'dplyr'\n",
      "\n",
      "\n",
      "The following objects are masked from 'package:stats':\n",
      "\n",
      "    filter, lag\n",
      "\n",
      "\n",
      "The following objects are masked from 'package:base':\n",
      "\n",
      "    intersect, setdiff, setequal, union\n",
      "\n",
      "\n"
     ]
    }
   ],
   "source": [
    "#install.packages('corrgram')\n",
    "# dplyr is used for data manipulation \n",
    "library(dplyr)\n",
    "# ggplot2 for visualization \n",
    "library(ggplot2)\n",
    "#caTools for train/test split\n",
    "library(caTools)\n",
    "# corrgram for making neat correlation matrix plots\n",
    "library(corrgram)\n"
   ]
  },
  {
   "cell_type": "code",
   "execution_count": 2,
   "metadata": {},
   "outputs": [
    {
     "data": {
      "text/html": [
       "<table>\n",
       "<caption>A data.frame: 6 × 7</caption>\n",
       "<thead>\n",
       "\t<tr><th></th><th scope=col>ï..Species</th><th scope=col>Weight</th><th scope=col>Length1</th><th scope=col>Length2</th><th scope=col>Length3</th><th scope=col>Height</th><th scope=col>Width</th></tr>\n",
       "\t<tr><th></th><th scope=col>&lt;chr&gt;</th><th scope=col>&lt;dbl&gt;</th><th scope=col>&lt;dbl&gt;</th><th scope=col>&lt;dbl&gt;</th><th scope=col>&lt;dbl&gt;</th><th scope=col>&lt;dbl&gt;</th><th scope=col>&lt;dbl&gt;</th></tr>\n",
       "</thead>\n",
       "<tbody>\n",
       "\t<tr><th scope=row>1</th><td>Bream</td><td>242</td><td>23.2</td><td>25.4</td><td>30.0</td><td>11.5200</td><td>4.0200</td></tr>\n",
       "\t<tr><th scope=row>2</th><td>Bream</td><td>290</td><td>24.0</td><td>26.3</td><td>31.2</td><td>12.4800</td><td>4.3056</td></tr>\n",
       "\t<tr><th scope=row>3</th><td>Bream</td><td>340</td><td>23.9</td><td>26.5</td><td>31.1</td><td>12.3778</td><td>4.6961</td></tr>\n",
       "\t<tr><th scope=row>4</th><td>Bream</td><td>363</td><td>26.3</td><td>29.0</td><td>33.5</td><td>12.7300</td><td>4.4555</td></tr>\n",
       "\t<tr><th scope=row>5</th><td>Bream</td><td>430</td><td>26.5</td><td>29.0</td><td>34.0</td><td>12.4440</td><td>5.1340</td></tr>\n",
       "\t<tr><th scope=row>6</th><td>Bream</td><td>450</td><td>26.8</td><td>29.7</td><td>34.7</td><td>13.6024</td><td>4.9274</td></tr>\n",
       "</tbody>\n",
       "</table>\n"
      ],
      "text/latex": [
       "A data.frame: 6 × 7\n",
       "\\begin{tabular}{r|lllllll}\n",
       "  & ï..Species & Weight & Length1 & Length2 & Length3 & Height & Width\\\\\n",
       "  & <chr> & <dbl> & <dbl> & <dbl> & <dbl> & <dbl> & <dbl>\\\\\n",
       "\\hline\n",
       "\t1 & Bream & 242 & 23.2 & 25.4 & 30.0 & 11.5200 & 4.0200\\\\\n",
       "\t2 & Bream & 290 & 24.0 & 26.3 & 31.2 & 12.4800 & 4.3056\\\\\n",
       "\t3 & Bream & 340 & 23.9 & 26.5 & 31.1 & 12.3778 & 4.6961\\\\\n",
       "\t4 & Bream & 363 & 26.3 & 29.0 & 33.5 & 12.7300 & 4.4555\\\\\n",
       "\t5 & Bream & 430 & 26.5 & 29.0 & 34.0 & 12.4440 & 5.1340\\\\\n",
       "\t6 & Bream & 450 & 26.8 & 29.7 & 34.7 & 13.6024 & 4.9274\\\\\n",
       "\\end{tabular}\n"
      ],
      "text/markdown": [
       "\n",
       "A data.frame: 6 × 7\n",
       "\n",
       "| <!--/--> | ï..Species &lt;chr&gt; | Weight &lt;dbl&gt; | Length1 &lt;dbl&gt; | Length2 &lt;dbl&gt; | Length3 &lt;dbl&gt; | Height &lt;dbl&gt; | Width &lt;dbl&gt; |\n",
       "|---|---|---|---|---|---|---|---|\n",
       "| 1 | Bream | 242 | 23.2 | 25.4 | 30.0 | 11.5200 | 4.0200 |\n",
       "| 2 | Bream | 290 | 24.0 | 26.3 | 31.2 | 12.4800 | 4.3056 |\n",
       "| 3 | Bream | 340 | 23.9 | 26.5 | 31.1 | 12.3778 | 4.6961 |\n",
       "| 4 | Bream | 363 | 26.3 | 29.0 | 33.5 | 12.7300 | 4.4555 |\n",
       "| 5 | Bream | 430 | 26.5 | 29.0 | 34.0 | 12.4440 | 5.1340 |\n",
       "| 6 | Bream | 450 | 26.8 | 29.7 | 34.7 | 13.6024 | 4.9274 |\n",
       "\n"
      ],
      "text/plain": [
       "  ï..Species Weight Length1 Length2 Length3 Height  Width \n",
       "1 Bream      242    23.2    25.4    30.0    11.5200 4.0200\n",
       "2 Bream      290    24.0    26.3    31.2    12.4800 4.3056\n",
       "3 Bream      340    23.9    26.5    31.1    12.3778 4.6961\n",
       "4 Bream      363    26.3    29.0    33.5    12.7300 4.4555\n",
       "5 Bream      430    26.5    29.0    34.0    12.4440 5.1340\n",
       "6 Bream      450    26.8    29.7    34.7    13.6024 4.9274"
      ]
     },
     "metadata": {},
     "output_type": "display_data"
    }
   ],
   "source": [
    "df <- read.csv('https://raw.githubusercontent.com/Ramesh-Bhutka/linear-regression-with-R/main/Fish.csv')\n",
    "head(df)"
   ]
  },
  {
   "cell_type": "code",
   "execution_count": 3,
   "metadata": {},
   "outputs": [
    {
     "data": {
      "text/html": [
       "FALSE"
      ],
      "text/latex": [
       "FALSE"
      ],
      "text/markdown": [
       "FALSE"
      ],
      "text/plain": [
       "[1] FALSE"
      ]
     },
     "metadata": {},
     "output_type": "display_data"
    }
   ],
   "source": [
    "any(is.na(df))"
   ]
  },
  {
   "cell_type": "code",
   "execution_count": 4,
   "metadata": {},
   "outputs": [],
   "source": [
    "df <- df %>% \n",
    "  rename(\n",
    "    Species = ï..Species,\n",
    "    )"
   ]
  },
  {
   "cell_type": "code",
   "execution_count": 5,
   "metadata": {},
   "outputs": [
    {
     "data": {
      "image/png": "[encoded data removed]",
      "text/plain": [
       "plot without title"
      ]
     },
     "metadata": {
      "image/png": {
       "height": 420,
       "width": 420
      }
     },
     "output_type": "display_data"
    }
   ],
   "source": [
    "ggplot(data=df, aes(x=Weight, y=Height)) +\n",
    "geom_point(aes(color=Species, size=10, alpha=0.7))"
   ]
  },
  {
   "cell_type": "code",
   "execution_count": 6,
   "metadata": {},
   "outputs": [
    {
     "data": {
      "image/png": "[encoded data removed]",
      "text/plain": [
       "plot without title"
      ]
     },
     "metadata": {
      "image/png": {
       "height": 420,
       "width": 420
      }
     },
     "output_type": "display_data"
    }
   ],
   "source": [
    "corrgram(df, lower.panel=panel.shade, upper.panel=panel.cor)"
   ]
  },
  {
   "cell_type": "code",
   "execution_count": 7,
   "metadata": {},
   "outputs": [],
   "source": [
    "set.seed(42)\n",
    "sampleSplit <- sample.split(Y=df$Weight, SplitRatio=0.7)\n",
    "trainSet <- subset(x=df, sampleSplit==TRUE)\n",
    "testSet <- subset(x=df, sampleSplit==FALSE)"
   ]
  },
  {
   "cell_type": "code",
   "execution_count": 8,
   "metadata": {},
   "outputs": [],
   "source": [
    "model <- lm(formula=Weight ~ ., data=trainSet)"
   ]
  },
  {
   "cell_type": "code",
   "execution_count": 9,
   "metadata": {},
   "outputs": [
    {
     "data": {
      "text/plain": [
       "\n",
       "Call:\n",
       "lm(formula = Weight ~ ., data = trainSet)\n",
       "\n",
       "Residuals:\n",
       "    Min      1Q  Median      3Q     Max \n",
       "-215.89  -54.61   -5.17   43.84  398.39 \n",
       "\n",
       "Coefficients:\n",
       "                 Estimate Std. Error t value Pr(>|t|)    \n",
       "(Intercept)      -906.264    163.753  -5.534 2.56e-07 ***\n",
       "SpeciesParkki     119.896     92.780   1.292   0.1993    \n",
       "SpeciesPerch      163.519    152.037   1.076   0.2848    \n",
       "SpeciesPike      -186.470    177.873  -1.048   0.2970    \n",
       "SpeciesRoach      103.074    118.739   0.868   0.3875    \n",
       "SpeciesSmelt      421.896    156.123   2.702   0.0081 ** \n",
       "SpeciesWhitefish  126.796    120.745   1.050   0.2962    \n",
       "Length1           -57.474     44.056  -1.305   0.1951    \n",
       "Length2            57.483     54.485   1.055   0.2940    \n",
       "Length3            34.205     36.225   0.944   0.3473    \n",
       "Height              8.176     16.539   0.494   0.6222    \n",
       "Width             -14.080     31.333  -0.449   0.6541    \n",
       "---\n",
       "Signif. codes:  0 '***' 0.001 '**' 0.01 '*' 0.05 '.' 0.1 ' ' 1\n",
       "\n",
       "Residual standard error: 95 on 99 degrees of freedom\n",
       "Multiple R-squared:  0.9383,\tAdjusted R-squared:  0.9315 \n",
       "F-statistic: 136.9 on 11 and 99 DF,  p-value: < 2.2e-16\n"
      ]
     },
     "metadata": {},
     "output_type": "display_data"
    }
   ],
   "source": [
    "summary(model)"
   ]
  },
  {
   "cell_type": "code",
   "execution_count": 10,
   "metadata": {},
   "outputs": [
    {
     "name": "stderr",
     "output_type": "stream",
     "text": [
      "`stat_bin()` using `bins = 30`. Pick better value with `binwidth`.\n",
      "\n"
     ]
    },
    {
     "data": {
      "image/png": "[encoded data removed]",
      "text/plain": [
       "plot without title"
      ]
     },
     "metadata": {
      "image/png": {
       "height": 420,
       "width": 420
      }
     },
     "output_type": "display_data"
    }
   ],
   "source": [
    "modelResiduals <- as.data.frame(residuals(model)) \n",
    "ggplot(modelResiduals, aes(residuals(model))) +\n",
    "geom_histogram(fill='deepskyblue', color='black')"
   ]
  },
  {
   "cell_type": "code",
   "execution_count": 11,
   "metadata": {},
   "outputs": [],
   "source": [
    "preds <- predict(model, testSet)"
   ]
  },
  {
   "cell_type": "code",
   "execution_count": 12,
   "metadata": {},
   "outputs": [],
   "source": [
    "modelEval <- cbind(testSet$Weight, preds)\n",
    "colnames(modelEval) <- c('Actual', 'Predicted')\n",
    "modelEval <- as.data.frame(modelEval)"
   ]
  },
  {
   "cell_type": "code",
   "execution_count": 13,
   "metadata": {},
   "outputs": [
    {
     "data": {
      "text/html": [
       "<table>\n",
       "<caption>A data.frame: 6 × 2</caption>\n",
       "<thead>\n",
       "\t<tr><th></th><th scope=col>Actual</th><th scope=col>Predicted</th></tr>\n",
       "\t<tr><th></th><th scope=col>&lt;dbl&gt;</th><th scope=col>&lt;dbl&gt;</th></tr>\n",
       "</thead>\n",
       "<tbody>\n",
       "\t<tr><th scope=row>1</th><td>242</td><td>284.1470</td></tr>\n",
       "\t<tr><th scope=row>2</th><td>290</td><td>334.7763</td></tr>\n",
       "\t<tr><th scope=row>4</th><td>363</td><td>436.3956</td></tr>\n",
       "\t<tr><th scope=row>7</th><td>500</td><td>482.3648</td></tr>\n",
       "\t<tr><th scope=row>13</th><td>500</td><td>528.0177</td></tr>\n",
       "\t<tr><th scope=row>16</th><td>600</td><td>563.5415</td></tr>\n",
       "</tbody>\n",
       "</table>\n"
      ],
      "text/latex": [
       "A data.frame: 6 × 2\n",
       "\\begin{tabular}{r|ll}\n",
       "  & Actual & Predicted\\\\\n",
       "  & <dbl> & <dbl>\\\\\n",
       "\\hline\n",
       "\t1 & 242 & 284.1470\\\\\n",
       "\t2 & 290 & 334.7763\\\\\n",
       "\t4 & 363 & 436.3956\\\\\n",
       "\t7 & 500 & 482.3648\\\\\n",
       "\t13 & 500 & 528.0177\\\\\n",
       "\t16 & 600 & 563.5415\\\\\n",
       "\\end{tabular}\n"
      ],
      "text/markdown": [
       "\n",
       "A data.frame: 6 × 2\n",
       "\n",
       "| <!--/--> | Actual &lt;dbl&gt; | Predicted &lt;dbl&gt; |\n",
       "|---|---|---|\n",
       "| 1 | 242 | 284.1470 |\n",
       "| 2 | 290 | 334.7763 |\n",
       "| 4 | 363 | 436.3956 |\n",
       "| 7 | 500 | 482.3648 |\n",
       "| 13 | 500 | 528.0177 |\n",
       "| 16 | 600 | 563.5415 |\n",
       "\n"
      ],
      "text/plain": [
       "   Actual Predicted\n",
       "1  242    284.1470 \n",
       "2  290    334.7763 \n",
       "4  363    436.3956 \n",
       "7  500    482.3648 \n",
       "13 500    528.0177 \n",
       "16 600    563.5415 "
      ]
     },
     "metadata": {},
     "output_type": "display_data"
    }
   ],
   "source": [
    "head(modelEval)"
   ]
  },
  {
   "cell_type": "code",
   "execution_count": 14,
   "metadata": {},
   "outputs": [],
   "source": [
    "mse <- mean((modelEval$Actual - modelEval$Predicted)^2)\n",
    "rmse <- sqrt(mse)"
   ]
  },
  {
   "cell_type": "code",
   "execution_count": 15,
   "metadata": {},
   "outputs": [
    {
     "data": {
      "text/html": [
       "9198.64721632226"
      ],
      "text/latex": [
       "9198.64721632226"
      ],
      "text/markdown": [
       "9198.64721632226"
      ],
      "text/plain": [
       "[1] 9198.647"
      ]
     },
     "metadata": {},
     "output_type": "display_data"
    },
    {
     "data": {
      "text/html": [
       "95.9095783346077"
      ],
      "text/latex": [
       "95.9095783346077"
      ],
      "text/markdown": [
       "95.9095783346077"
      ],
      "text/plain": [
       "[1] 95.90958"
      ]
     },
     "metadata": {},
     "output_type": "display_data"
    }
   ],
   "source": [
    "mse; rmse"
   ]
  },
  {
   "cell_type": "code",
   "execution_count": null,
   "metadata": {},
   "outputs": [],
   "source": []
  }
 ],
 "metadata": {
  "kernelspec": {
   "display_name": "R",
   "language": "R",
   "name": "ir"
  },
  "language_info": {
   "codemirror_mode": "r",
   "file_extension": ".r",
   "mimetype": "text/x-r-source",
   "name": "R",
   "pygments_lexer": "r",
   "version": "4.0.3"
  }
 },
 "nbformat": 4,
 "nbformat_minor": 4
}
